{
 "cells": [
  {
   "cell_type": "code",
   "execution_count": 2,
   "id": "6a628f5c",
   "metadata": {},
   "outputs": [],
   "source": [
    "%%capture\n",
    "!pip install transformers==4.31 # version specific "
   ]
  },
  {
   "cell_type": "code",
   "execution_count": 1,
   "id": "4e22cb0f",
   "metadata": {},
   "outputs": [
    {
     "name": "stderr",
     "output_type": "stream",
     "text": [
      "/opt/conda/envs/pytorch/lib/python3.10/site-packages/diffusers/models/cross_attention.py:30: FutureWarning: Importing from cross_attention is deprecated. Please import from diffusers.models.attention_processor instead.\n",
      "  deprecate(\n"
     ]
    }
   ],
   "source": [
    "from lavis.models import model_zoo"
   ]
  },
  {
   "cell_type": "code",
   "execution_count": 8,
   "id": "9fda36a6",
   "metadata": {},
   "outputs": [
    {
     "name": "stdout",
     "output_type": "stream",
     "text": [
      "__init__.py   base_model.py\t     clip_models  img2prompt_models  vit.py\r\n",
      "__pycache__   blip2_models\t     clip_vit.py  med.py\r\n",
      "albef_models  blip_diffusion_models  eva_vit.py   pnp_vqa_models\r\n",
      "alpro_models  blip_models\t     gpt_models   timesformer\r\n"
     ]
    }
   ],
   "source": [
    "!ls lavis/models"
   ]
  },
  {
   "cell_type": "code",
   "execution_count": 9,
   "id": "519ce17b",
   "metadata": {},
   "outputs": [
    {
     "ename": "ImportError",
     "evalue": "cannot import name 'VisionTransformer' from 'lavis.models' (/home/ubuntu/LAVIS_BLIP/lavis/models/__init__.py)",
     "output_type": "error",
     "traceback": [
      "\u001b[0;31m---------------------------------------------------------------------------\u001b[0m",
      "\u001b[0;31mImportError\u001b[0m                               Traceback (most recent call last)",
      "Cell \u001b[0;32mIn[9], line 11\u001b[0m\n\u001b[1;32m      8\u001b[0m \u001b[38;5;28;01mfrom\u001b[39;00m \u001b[38;5;21;01mlavis\u001b[39;00m\u001b[38;5;21;01m.\u001b[39;00m\u001b[38;5;21;01mmodels\u001b[39;00m \u001b[38;5;28;01mimport\u001b[39;00m load_model_and_preprocess, load_model\n\u001b[1;32m     10\u001b[0m \u001b[38;5;28;01mfrom\u001b[39;00m \u001b[38;5;21;01mfunctools\u001b[39;00m \u001b[38;5;28;01mimport\u001b[39;00m partial\n\u001b[0;32m---> 11\u001b[0m \u001b[38;5;28;01mfrom\u001b[39;00m \u001b[38;5;21;01mlavis\u001b[39;00m\u001b[38;5;21;01m.\u001b[39;00m\u001b[38;5;21;01mmodels\u001b[39;00m \u001b[38;5;28;01mimport\u001b[39;00m VisionTransformer\n\u001b[1;32m     12\u001b[0m \u001b[38;5;28;01mfrom\u001b[39;00m \u001b[38;5;21;01mlavis\u001b[39;00m\u001b[38;5;21;01m.\u001b[39;00m\u001b[38;5;21;01mmodels\u001b[39;00m\u001b[38;5;21;01m.\u001b[39;00m\u001b[38;5;21;01mxbert\u001b[39;00m \u001b[38;5;28;01mimport\u001b[39;00m BertConfig, BertModel\n\u001b[1;32m     13\u001b[0m \u001b[38;5;28;01mfrom\u001b[39;00m \u001b[38;5;21;01mlavis\u001b[39;00m\u001b[38;5;21;01m.\u001b[39;00m\u001b[38;5;21;01mmodels\u001b[39;00m\u001b[38;5;21;01m.\u001b[39;00m\u001b[38;5;21;01mtokenization_bert\u001b[39;00m \u001b[38;5;28;01mimport\u001b[39;00m BertTokenizer\n",
      "\u001b[0;31mImportError\u001b[0m: cannot import name 'VisionTransformer' from 'lavis.models' (/home/ubuntu/LAVIS_BLIP/lavis/models/__init__.py)"
     ]
    }
   ],
   "source": [
    "import torch\n",
    "from torch import nn\n",
    "from torchvision import transforms\n",
    "\n",
    "from PIL import Image\n",
    "import requests\n",
    "\n",
    "from lavis.models import load_model_and_preprocess, load_model\n",
    "\n",
    "from functools import partial\n",
    "from lavis.models import VisionTransformer\n",
    "from lavis.models.xbert import BertConfig, BertModel\n",
    "from lavis.models.tokenization_bert import BertTokenizer"
   ]
  },
  {
   "cell_type": "code",
   "execution_count": null,
   "id": "ee6bd2a5",
   "metadata": {},
   "outputs": [],
   "source": [
    "device = torch.device(\"cuda\" if torch.cuda.is_available() else \"cpu\")"
   ]
  },
  {
   "cell_type": "markdown",
   "id": "19027607",
   "metadata": {},
   "source": [
    "### BLIP Example"
   ]
  },
  {
   "cell_type": "code",
   "execution_count": null,
   "id": "b570f9e9",
   "metadata": {},
   "outputs": [],
   "source": [
    "class VL_Transformer_ITM(nn.Module):\n",
    "    def __init__(self,                 \n",
    "                 text_encoder = None,\n",
    "                 config_bert = ''\n",
    "                 ):\n",
    "        super().__init__()\n",
    "    \n",
    "        bert_config = BertConfig.from_json_file(config_bert)\n",
    "\n",
    "        self.visual_encoder = VisionTransformer(\n",
    "            img_size=384, patch_size=16, embed_dim=768, depth=12, num_heads=12, \n",
    "            mlp_ratio=4, qkv_bias=True, norm_layer=partial(nn.LayerNorm, eps=1e-6)) \n",
    "\n",
    "        self.text_encoder = BertModel.from_pretrained(text_encoder, config=bert_config, add_pooling_layer=False)   \n",
    "        \n",
    "        self.itm_head = nn.Linear(768, 2) \n",
    "\n",
    "        \n",
    "    def forward(self, image, text):\n",
    "        image_embeds = self.visual_encoder(image) \n",
    "\n",
    "        image_atts = torch.ones(image_embeds.size()[:-1],dtype=torch.long).to(image.device)\n",
    "\n",
    "        output = self.text_encoder(text.input_ids, \n",
    "                                attention_mask = text.attention_mask,\n",
    "                                encoder_hidden_states = image_embeds,\n",
    "                                encoder_attention_mask = image_atts,      \n",
    "                                return_dict = True,\n",
    "                               )     \n",
    "           \n",
    "        vl_embeddings = output.last_hidden_state[:,0,:]\n",
    "        vl_output = self.itm_head(vl_embeddings)   \n",
    "        return vl_output"
   ]
  },
  {
   "cell_type": "code",
   "execution_count": null,
   "id": "425c21a4",
   "metadata": {},
   "outputs": [],
   "source": []
  }
 ],
 "metadata": {
  "kernelspec": {
   "display_name": "Python 3 (ipykernel)",
   "language": "python",
   "name": "python3"
  },
  "language_info": {
   "codemirror_mode": {
    "name": "ipython",
    "version": 3
   },
   "file_extension": ".py",
   "mimetype": "text/x-python",
   "name": "python",
   "nbconvert_exporter": "python",
   "pygments_lexer": "ipython3",
   "version": "3.10.13"
  }
 },
 "nbformat": 4,
 "nbformat_minor": 5
}
